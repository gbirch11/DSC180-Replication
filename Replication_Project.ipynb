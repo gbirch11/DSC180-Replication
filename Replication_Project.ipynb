{
 "cells": [
  {
   "cell_type": "code",
   "execution_count": 16,
   "id": "14489e80-8cfd-4d5e-a4d2-a6d8dbe0dd3f",
   "metadata": {},
   "outputs": [],
   "source": [
    "import pandas as pd\n",
    "import numpy as np\n",
    "import matplotlib.pyplot as plt\n",
    "import pickle\n",
    "import json\n",
    "from sklearn.feature_extraction.text import TfidfVectorizer"
   ]
  },
  {
   "cell_type": "markdown",
   "id": "244f1b7b-b7dd-41b4-8401-2ba4ee31bada",
   "metadata": {},
   "source": [
    "## Coarse Data Breakdown"
   ]
  },
  {
   "cell_type": "code",
   "execution_count": 9,
   "id": "51422158-5eba-4d31-9219-8b04895212f7",
   "metadata": {},
   "outputs": [
    {
     "data": {
      "text/html": [
       "<div>\n",
       "<style scoped>\n",
       "    .dataframe tbody tr th:only-of-type {\n",
       "        vertical-align: middle;\n",
       "    }\n",
       "\n",
       "    .dataframe tbody tr th {\n",
       "        vertical-align: top;\n",
       "    }\n",
       "\n",
       "    .dataframe thead th {\n",
       "        text-align: right;\n",
       "    }\n",
       "</style>\n",
       "<table border=\"1\" class=\"dataframe\">\n",
       "  <thead>\n",
       "    <tr style=\"text-align: right;\">\n",
       "      <th></th>\n",
       "      <th>sentence</th>\n",
       "      <th>label</th>\n",
       "    </tr>\n",
       "  </thead>\n",
       "  <tbody>\n",
       "    <tr>\n",
       "      <th>0</th>\n",
       "      <td>from:  (where's my thing)\\nsubject: what car i...</td>\n",
       "      <td>rec</td>\n",
       "    </tr>\n",
       "    <tr>\n",
       "      <th>1</th>\n",
       "      <td>from:  (guy kuo)\\nsubject: si clock poll - fin...</td>\n",
       "      <td>comp</td>\n",
       "    </tr>\n",
       "    <tr>\n",
       "      <th>2</th>\n",
       "      <td>from:  (thomas e willis)\\nsubject: pb question...</td>\n",
       "      <td>comp</td>\n",
       "    </tr>\n",
       "    <tr>\n",
       "      <th>3</th>\n",
       "      <td>from: jgreen@amber (joe green)\\nsubject: re: w...</td>\n",
       "      <td>comp</td>\n",
       "    </tr>\n",
       "    <tr>\n",
       "      <th>4</th>\n",
       "      <td>from:  (jonathan mcdowell)\\nsubject: re: shutt...</td>\n",
       "      <td>sci</td>\n",
       "    </tr>\n",
       "  </tbody>\n",
       "</table>\n",
       "</div>"
      ],
      "text/plain": [
       "                                            sentence label\n",
       "0  from:  (where's my thing)\\nsubject: what car i...   rec\n",
       "1  from:  (guy kuo)\\nsubject: si clock poll - fin...  comp\n",
       "2  from:  (thomas e willis)\\nsubject: pb question...  comp\n",
       "3  from: jgreen@amber (joe green)\\nsubject: re: w...  comp\n",
       "4  from:  (jonathan mcdowell)\\nsubject: re: shutt...   sci"
      ]
     },
     "execution_count": 9,
     "metadata": {},
     "output_type": "execute_result"
    }
   ],
   "source": [
    "twenty_data_coarse = pickle.load(open('data/20news/coarse/df.pkl', 'rb'))\n",
    "twenty_data_coarse.head()"
   ]
  },
  {
   "cell_type": "code",
   "execution_count": 12,
   "id": "f92bb716-196e-412c-b5ac-6b4ef1a3ea31",
   "metadata": {},
   "outputs": [
    {
     "data": {
      "text/plain": [
       "{'alt': ['atheism', 'atheists', 'religion', 'objective'],\n",
       " 'comp': ['graphics', 'windows', 'scsi', 'mac'],\n",
       " 'misc': ['sale', 'offer', 'shipping', 'forsale'],\n",
       " 'rec': ['car', 'bike', 'game', 'team'],\n",
       " 'sci': ['encryption', 'circuit', 'candida', 'space'],\n",
       " 'talk': ['turkish', 'gun', 'jews', 'armenian'],\n",
       " 'soc': ['church', 'jesus', 'christ', 'christians']}"
      ]
     },
     "execution_count": 12,
     "metadata": {},
     "output_type": "execute_result"
    }
   ],
   "source": [
    "with open('data/20news/coarse/seedwords.json') as fp:\n",
    "    twenty_data_coarse_seed = json.load(fp)\n",
    "twenty_data_coarse_seed"
   ]
  },
  {
   "cell_type": "code",
   "execution_count": 14,
   "id": "e31748c8-b32d-40b2-95e8-e0589d701950",
   "metadata": {},
   "outputs": [
    {
     "data": {
      "text/html": [
       "<div>\n",
       "<style scoped>\n",
       "    .dataframe tbody tr th:only-of-type {\n",
       "        vertical-align: middle;\n",
       "    }\n",
       "\n",
       "    .dataframe tbody tr th {\n",
       "        vertical-align: top;\n",
       "    }\n",
       "\n",
       "    .dataframe thead th {\n",
       "        text-align: right;\n",
       "    }\n",
       "</style>\n",
       "<table border=\"1\" class=\"dataframe\">\n",
       "  <thead>\n",
       "    <tr style=\"text-align: right;\">\n",
       "      <th></th>\n",
       "      <th>sentence</th>\n",
       "      <th>label</th>\n",
       "    </tr>\n",
       "  </thead>\n",
       "  <tbody>\n",
       "    <tr>\n",
       "      <th>0</th>\n",
       "      <td>nasa, in preparation for a spacewalk on saturd...</td>\n",
       "      <td>science</td>\n",
       "    </tr>\n",
       "    <tr>\n",
       "      <th>1</th>\n",
       "      <td>if professional pride and strong defiance can ...</td>\n",
       "      <td>sports</td>\n",
       "    </tr>\n",
       "    <tr>\n",
       "      <th>2</th>\n",
       "      <td>admittedly, the language is reconstructed and ...</td>\n",
       "      <td>arts</td>\n",
       "    </tr>\n",
       "    <tr>\n",
       "      <th>3</th>\n",
       "      <td>palermo, sicily — roberta vinci beat top-seede...</td>\n",
       "      <td>sports</td>\n",
       "    </tr>\n",
       "    <tr>\n",
       "      <th>4</th>\n",
       "      <td>the argentine soccer club san lorenzo complete...</td>\n",
       "      <td>sports</td>\n",
       "    </tr>\n",
       "  </tbody>\n",
       "</table>\n",
       "</div>"
      ],
      "text/plain": [
       "                                            sentence    label\n",
       "0  nasa, in preparation for a spacewalk on saturd...  science\n",
       "1  if professional pride and strong defiance can ...   sports\n",
       "2  admittedly, the language is reconstructed and ...     arts\n",
       "3  palermo, sicily — roberta vinci beat top-seede...   sports\n",
       "4  the argentine soccer club san lorenzo complete...   sports"
      ]
     },
     "execution_count": 14,
     "metadata": {},
     "output_type": "execute_result"
    }
   ],
   "source": [
    "nyt_data_coarse = pickle.load(open('data/nyt/coarse/df.pkl', 'rb'))\n",
    "nyt_data_coarse.head()"
   ]
  },
  {
   "cell_type": "code",
   "execution_count": 15,
   "id": "c1ef0b02-93e0-4f23-a78d-09d97c7c3819",
   "metadata": {},
   "outputs": [
    {
     "data": {
      "text/plain": [
       "{'arts': ['music', 'orchestra', 'album', 'opera', 'ballet'],\n",
       " 'business': ['companies', 'euro', 'economy', 'batteries', 'sales'],\n",
       " 'science': ['space', 'researchers', 'scientists', 'research', 'science'],\n",
       " 'sports': ['yankees', 'cup', 'league', 'basketball', 'golf'],\n",
       " 'politics': ['republicans', 'senator', 'senate', 'democrats', 'election']}"
      ]
     },
     "execution_count": 15,
     "metadata": {},
     "output_type": "execute_result"
    }
   ],
   "source": [
    "with open('data/nyt/coarse/seedwords.json') as fp:\n",
    "    nyt_data_coarse_seed = json.load(fp)\n",
    "nyt_data_coarse_seed"
   ]
  },
  {
   "cell_type": "code",
   "execution_count": 22,
   "id": "45484aa0-c42b-465c-a571-253ed52974fa",
   "metadata": {},
   "outputs": [],
   "source": [
    "docFreq_twenty = {}\n",
    "docFreq_nyt = {}\n",
    "twenty_sentences = twenty_data_coarse.sentence.values\n",
    "nyt_sentences = nyt_data_coarse.sentence.values\n",
    "#twenty_sentences[0], nyt_sentences[0]"
   ]
  },
  {
   "cell_type": "code",
   "execution_count": 26,
   "id": "6826ae1c-f555-4af4-973f-bae0cddb7c89",
   "metadata": {},
   "outputs": [],
   "source": [
    "for sentence in twenty_sentences:\n",
    "    words = sentence.strip().split()\n",
    "    temp_set = set(words)\n",
    "    for c in temp_set:\n",
    "        try:\n",
    "            docFreq_twenty[c] += 1\n",
    "        except:\n",
    "            docFreq_twenty[c] = 1\n",
    "\n",
    "for sentence in nyt_sentences:\n",
    "    words = sentence.strip().split()\n",
    "    temp_set = set(words)\n",
    "    for c in temp_set:\n",
    "        try:\n",
    "            docFreq_nyt[c] += 1\n",
    "        except:\n",
    "            docFreq_nyt[c] = 1"
   ]
  },
  {
   "cell_type": "code",
   "execution_count": 28,
   "id": "995f0aeb-5443-4b9e-af9f-c1caef5b41b7",
   "metadata": {},
   "outputs": [],
   "source": [
    "inv_docFreq_twenty = {}\n",
    "inv_docFreq_nyt = {}\n",
    "twenty_N = len(twenty_data_coarse)\n",
    "nyt_N = len(nyt_data_coarse)"
   ]
  },
  {
   "cell_type": "code",
   "execution_count": 31,
   "id": "2fc7a5af-e890-4978-a55a-140ad4c34b6d",
   "metadata": {},
   "outputs": [],
   "source": [
    "for word in docFreq_twenty:\n",
    "    inv_docFreq_twenty[word] = np.log(twenty_N / docFreq_twenty[word])\n",
    "for word in docFreq_nyt:\n",
    "    inv_docFreq_nyt[word] = np.log(nyt_N / docFreq_nyt[word])"
   ]
  },
  {
   "cell_type": "code",
   "execution_count": 10,
   "id": "06f5a953-5938-465d-a512-d59b4e830529",
   "metadata": {},
   "outputs": [
    {
     "data": {
      "text/html": [
       "<div>\n",
       "<style scoped>\n",
       "    .dataframe tbody tr th:only-of-type {\n",
       "        vertical-align: middle;\n",
       "    }\n",
       "\n",
       "    .dataframe tbody tr th {\n",
       "        vertical-align: top;\n",
       "    }\n",
       "\n",
       "    .dataframe thead th {\n",
       "        text-align: right;\n",
       "    }\n",
       "</style>\n",
       "<table border=\"1\" class=\"dataframe\">\n",
       "  <thead>\n",
       "    <tr style=\"text-align: right;\">\n",
       "      <th></th>\n",
       "      <th>sentence</th>\n",
       "      <th>label</th>\n",
       "    </tr>\n",
       "  </thead>\n",
       "  <tbody>\n",
       "    <tr>\n",
       "      <th>0</th>\n",
       "      <td>from:  (where's my thing)\\nsubject: what car i...</td>\n",
       "      <td>rec.autos</td>\n",
       "    </tr>\n",
       "    <tr>\n",
       "      <th>1</th>\n",
       "      <td>from:  (guy kuo)\\nsubject: si clock poll - fin...</td>\n",
       "      <td>comp.sys.mac.hardware</td>\n",
       "    </tr>\n",
       "    <tr>\n",
       "      <th>2</th>\n",
       "      <td>from:  (thomas e willis)\\nsubject: pb question...</td>\n",
       "      <td>comp.sys.mac.hardware</td>\n",
       "    </tr>\n",
       "    <tr>\n",
       "      <th>3</th>\n",
       "      <td>from: jgreen@amber (joe green)\\nsubject: re: w...</td>\n",
       "      <td>comp.graphics</td>\n",
       "    </tr>\n",
       "    <tr>\n",
       "      <th>4</th>\n",
       "      <td>from:  (jonathan mcdowell)\\nsubject: re: shutt...</td>\n",
       "      <td>sci.space</td>\n",
       "    </tr>\n",
       "  </tbody>\n",
       "</table>\n",
       "</div>"
      ],
      "text/plain": [
       "                                            sentence                  label\n",
       "0  from:  (where's my thing)\\nsubject: what car i...              rec.autos\n",
       "1  from:  (guy kuo)\\nsubject: si clock poll - fin...  comp.sys.mac.hardware\n",
       "2  from:  (thomas e willis)\\nsubject: pb question...  comp.sys.mac.hardware\n",
       "3  from: jgreen@amber (joe green)\\nsubject: re: w...          comp.graphics\n",
       "4  from:  (jonathan mcdowell)\\nsubject: re: shutt...              sci.space"
      ]
     },
     "execution_count": 10,
     "metadata": {},
     "output_type": "execute_result"
    }
   ],
   "source": [
    "twenty_data_fine = pickle.load(open('data/20news/fine/df.pkl', 'rb'))\n",
    "twenty_data_fine.head()"
   ]
  },
  {
   "cell_type": "code",
   "execution_count": 13,
   "id": "b7a3c46c-ca56-46f5-93b4-72b270b1e471",
   "metadata": {},
   "outputs": [
    {
     "data": {
      "text/plain": [
       "{'alt.atheism': ['atheism', 'atheists', 'rushdie'],\n",
       " 'comp.graphics': ['jpeg', 'gif', 'images', 'graphics'],\n",
       " 'comp.os.ms-windows.misc': ['driver', 'microsoft', 'dos', 'windows'],\n",
       " 'comp.sys.ibm.pc.hardware': ['scsi', 'ide', 'controller', 'drive'],\n",
       " 'comp.sys.mac.hardware': ['apple', 'mac', 'centris', 'powerbook'],\n",
       " 'comp.windows.x': ['motif', 'x11r5', 'xterm', 'window'],\n",
       " 'misc.forsale': ['sale', 'offer', 'shipping', 'forsale'],\n",
       " 'rec.autos': ['car', 'mustang'],\n",
       " 'rec.motorcycles': ['bike', 'dod', 'bikes'],\n",
       " 'rec.sport.baseball': ['baseball'],\n",
       " 'rec.sport.hockey': ['hockey', 'nhl'],\n",
       " 'sci.crypt': ['encryption', 'clipper', 'key', 'chip'],\n",
       " 'sci.electronics': ['circuit', 'current', 'wire', 'voltage'],\n",
       " 'sci.med': ['candida', 'msg', 'vitamin'],\n",
       " 'sci.space': ['space', 'shuttle', 'orbit'],\n",
       " 'soc.religion.christian': ['jesus', 'christ', 'church', 'bible'],\n",
       " 'talk.politics.guns': ['weapons', 'gun', 'guns', 'firearms'],\n",
       " 'talk.politics.mideast': ['armenian', 'israeli', 'turkish', 'arab'],\n",
       " 'talk.politics.misc': ['stephanopoulos', 'cramer', 'clayton', 'gay'],\n",
       " 'talk.religion.misc': ['weiss', 'malcolm', 'sandvik', 'jehovah']}"
      ]
     },
     "execution_count": 13,
     "metadata": {},
     "output_type": "execute_result"
    }
   ],
   "source": [
    "with open('data/20news/fine/seedwords.json') as fp:\n",
    "    twenty_data_fine_seed = json.load(fp)\n",
    "twenty_data_fine_seed"
   ]
  }
 ],
 "metadata": {
  "kernelspec": {
   "display_name": "Python 3 (ipykernel)",
   "language": "python",
   "name": "python3"
  },
  "language_info": {
   "codemirror_mode": {
    "name": "ipython",
    "version": 3
   },
   "file_extension": ".py",
   "mimetype": "text/x-python",
   "name": "python",
   "nbconvert_exporter": "python",
   "pygments_lexer": "ipython3",
   "version": "3.8.5"
  }
 },
 "nbformat": 4,
 "nbformat_minor": 5
}
